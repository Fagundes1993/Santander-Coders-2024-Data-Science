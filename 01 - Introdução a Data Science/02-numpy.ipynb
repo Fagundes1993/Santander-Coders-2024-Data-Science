{
 "cells": [
  {
   "cell_type": "code",
   "execution_count": 1,
   "id": "fe5dbc67-d0b9-41c3-853d-2fb0504aba1c",
   "metadata": {},
   "outputs": [],
   "source": [
    "import numpy as np"
   ]
  },
  {
   "cell_type": "code",
   "execution_count": 3,
   "id": "c6ddf217-e341-49f6-a54b-4e4c8ae68953",
   "metadata": {},
   "outputs": [],
   "source": [
    "lista = [1, 2, 3, 4, 5, 6]\n",
    "array = np.array(lista)"
   ]
  },
  {
   "cell_type": "code",
   "execution_count": 5,
   "id": "6d73bd89-2f25-4508-a866-d597fcecd5e3",
   "metadata": {},
   "outputs": [
    {
     "name": "stdout",
     "output_type": "stream",
     "text": [
      "[1, 2, 3, 4, 5, 6]\n",
      "[1 2 3 4 5 6]\n"
     ]
    }
   ],
   "source": [
    "print(lista)\n",
    "print(array)"
   ]
  },
  {
   "cell_type": "code",
   "execution_count": 7,
   "id": "47c0ab53-80cd-45f7-a9ab-47469d58ed0f",
   "metadata": {},
   "outputs": [
    {
     "name": "stdout",
     "output_type": "stream",
     "text": [
      "<class 'list'>\n",
      "<class 'numpy.ndarray'>\n"
     ]
    }
   ],
   "source": [
    "print(type(lista))\n",
    "print(type(array))"
   ]
  },
  {
   "cell_type": "code",
   "execution_count": 9,
   "id": "805ecff1-08e7-4708-bd34-532b95665979",
   "metadata": {},
   "outputs": [
    {
     "name": "stdout",
     "output_type": "stream",
     "text": [
      "[0. 0. 0. 0. 0. 0. 0. 0. 0. 0.]\n"
     ]
    }
   ],
   "source": [
    "arr_zeros = np.zeros(10)\n",
    "\n",
    "print(arr_zeros)"
   ]
  },
  {
   "cell_type": "code",
   "execution_count": 11,
   "id": "a4c02913-2cb2-4399-9d45-0b78ae15166f",
   "metadata": {},
   "outputs": [
    {
     "name": "stdout",
     "output_type": "stream",
     "text": [
      "[[0. 0. 0. 0.]\n",
      " [0. 0. 0. 0.]\n",
      " [0. 0. 0. 0.]]\n"
     ]
    }
   ],
   "source": [
    "## Matrizes\n",
    "matriz_zeros = np.zeros((3,4))\n",
    "print(matriz_zeros)"
   ]
  },
  {
   "cell_type": "code",
   "execution_count": 13,
   "id": "fcf03ef4-e297-4739-8661-ca7c45dc6348",
   "metadata": {},
   "outputs": [],
   "source": [
    "## Notas de alunos\n",
    "\n",
    "lista_de_notas = [9.8, 7.5, 9.6, 8.8, 7.7]\n",
    "\n",
    "notas = np.array(lista_de_notas)"
   ]
  },
  {
   "cell_type": "code",
   "execution_count": 23,
   "id": "eb23e825-8b06-4584-b977-1785c5c95b79",
   "metadata": {},
   "outputs": [
    {
     "name": "stdout",
     "output_type": "stream",
     "text": [
      "Máximo:  9.8\n",
      "Minimo:  7.5\n",
      "Desvio padrão:  0.9453041838477179\n",
      "Média:  8.680000000000001\n",
      "Posição do menor:  1\n"
     ]
    }
   ],
   "source": [
    "print(\"Máximo: \", notas.max())\n",
    "print(\"Minimo: \", notas.min())\n",
    "print(\"Desvio padrão: \", notas.std())\n",
    "print(\"Média: \", notas.mean())\n",
    "print(\"Posição do menor: \", notas.argmin())"
   ]
  }
 ],
 "metadata": {
  "kernelspec": {
   "display_name": "Python 3 (ipykernel)",
   "language": "python",
   "name": "python3"
  },
  "language_info": {
   "codemirror_mode": {
    "name": "ipython",
    "version": 3
   },
   "file_extension": ".py",
   "mimetype": "text/x-python",
   "name": "python",
   "nbconvert_exporter": "python",
   "pygments_lexer": "ipython3",
   "version": "3.11.7"
  }
 },
 "nbformat": 4,
 "nbformat_minor": 5
}
