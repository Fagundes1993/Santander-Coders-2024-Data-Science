{
 "cells": [
  {
   "cell_type": "code",
   "execution_count": 3,
   "id": "13c7a58f-be92-4385-a1e3-41f42d57f361",
   "metadata": {},
   "outputs": [],
   "source": [
    "import numpy as np"
   ]
  },
  {
   "cell_type": "code",
   "execution_count": 5,
   "id": "97cef583-b4cb-4534-8af7-ddf7aec5a71a",
   "metadata": {},
   "outputs": [],
   "source": [
    "is_covid_positive = np.array(['yes', 'no', 'yes', 'no', 'yes', 'yes', 'no'])"
   ]
  },
  {
   "cell_type": "code",
   "execution_count": 7,
   "id": "0501be41-05e6-4175-81b5-0c713feaa2bf",
   "metadata": {},
   "outputs": [
    {
     "name": "stdout",
     "output_type": "stream",
     "text": [
      "['yes' 'no' 'yes' 'no' 'yes' 'yes' 'no']\n"
     ]
    }
   ],
   "source": [
    "print(is_covid_positive)"
   ]
  },
  {
   "cell_type": "code",
   "execution_count": 9,
   "id": "10fd4bed-4c8f-40b2-a8fa-5e8ac5c9ec20",
   "metadata": {},
   "outputs": [],
   "source": [
    "mask = (is_covid_positive == 'yes')"
   ]
  },
  {
   "cell_type": "code",
   "execution_count": 13,
   "id": "88a40ffe-7693-47f1-b158-0e3738bd5758",
   "metadata": {},
   "outputs": [],
   "source": [
    "is_covid_positive[mask] = 'C19'"
   ]
  },
  {
   "cell_type": "code",
   "execution_count": 15,
   "id": "8520e49d-af65-4ba6-b3f1-9d1049395bba",
   "metadata": {},
   "outputs": [
    {
     "name": "stdout",
     "output_type": "stream",
     "text": [
      "['C19' 'no' 'C19' 'no' 'C19' 'C19' 'no']\n"
     ]
    }
   ],
   "source": [
    "print(is_covid_positive)"
   ]
  },
  {
   "cell_type": "code",
   "execution_count": 21,
   "id": "a7425c3a-903c-4b8f-a458-2c63104d2338",
   "metadata": {},
   "outputs": [],
   "source": [
    "## exemplo com notas\n",
    "\n",
    "notas = np.array([7.3, 8.2, 7.5, 9.2, 8.5, 5.4, 6.2, 5.8])"
   ]
  },
  {
   "cell_type": "code",
   "execution_count": 27,
   "id": "20ee3853-6ad9-480b-807f-36902daeba96",
   "metadata": {},
   "outputs": [],
   "source": [
    "mask_notas = notas >= 7"
   ]
  },
  {
   "cell_type": "code",
   "execution_count": 29,
   "id": "291a1029-9c45-4aa0-9429-71ddc418368d",
   "metadata": {},
   "outputs": [
    {
     "name": "stdout",
     "output_type": "stream",
     "text": [
      "[ True  True  True  True  True False False False]\n"
     ]
    }
   ],
   "source": [
    "print(mask_notas)"
   ]
  },
  {
   "cell_type": "code",
   "execution_count": 33,
   "id": "82fbc7d0-5d07-43c4-877d-55292bef2473",
   "metadata": {},
   "outputs": [
    {
     "name": "stdout",
     "output_type": "stream",
     "text": [
      "[1.  1.  1.  1.  1.  5.4 6.2 5.8]\n"
     ]
    }
   ],
   "source": [
    "notas[mask_notas] = True\n",
    "print(notas)"
   ]
  },
  {
   "cell_type": "code",
   "execution_count": null,
   "id": "e30cae4d-ba70-4e99-83d9-b693dab534c2",
   "metadata": {},
   "outputs": [],
   "source": []
  }
 ],
 "metadata": {
  "kernelspec": {
   "display_name": "Python 3 (ipykernel)",
   "language": "python",
   "name": "python3"
  },
  "language_info": {
   "codemirror_mode": {
    "name": "ipython",
    "version": 3
   },
   "file_extension": ".py",
   "mimetype": "text/x-python",
   "name": "python",
   "nbconvert_exporter": "python",
   "pygments_lexer": "ipython3",
   "version": "3.11.7"
  }
 },
 "nbformat": 4,
 "nbformat_minor": 5
}
