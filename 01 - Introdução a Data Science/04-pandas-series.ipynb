{
 "cells": [
  {
   "cell_type": "code",
   "execution_count": 3,
   "id": "4f12cb72-b8bd-41c3-a51e-94697d4041e5",
   "metadata": {},
   "outputs": [],
   "source": [
    "import pandas as pd"
   ]
  },
  {
   "cell_type": "code",
   "execution_count": 7,
   "id": "b0bd0152-8cb4-4684-a81b-bb33e057a0ac",
   "metadata": {},
   "outputs": [],
   "source": [
    "lista = [12, 12, 13, 14, 26, 71]\n",
    "serie_pandas = pd.Series(lista)"
   ]
  },
  {
   "cell_type": "code",
   "execution_count": 11,
   "id": "c0c4cfc7-4659-4639-ace7-084edb80740a",
   "metadata": {},
   "outputs": [
    {
     "name": "stdout",
     "output_type": "stream",
     "text": [
      "0    12\n",
      "1    12\n",
      "2    13\n",
      "3    14\n",
      "4    26\n",
      "5    71\n",
      "dtype: int64\n"
     ]
    }
   ],
   "source": [
    "print(serie_pandas)"
   ]
  },
  {
   "cell_type": "code",
   "execution_count": 17,
   "id": "853a4543-edcd-4945-a0d6-aa49c9912e3c",
   "metadata": {},
   "outputs": [],
   "source": [
    "notas = {'Flávio' : 9.2, 'José' : 8.4, 'Dorgival' : 9.7, 'Dantas' : 7.4}"
   ]
  },
  {
   "cell_type": "code",
   "execution_count": 19,
   "id": "85db4e8b-4c57-4ccc-8699-a88b0ec61b0a",
   "metadata": {},
   "outputs": [],
   "source": [
    "serie_notas = pd.Series(notas)"
   ]
  },
  {
   "cell_type": "code",
   "execution_count": 21,
   "id": "f116e993-1cfa-4b7c-8d47-a8aa6d094a9b",
   "metadata": {},
   "outputs": [
    {
     "name": "stdout",
     "output_type": "stream",
     "text": [
      "Flávio      9.2\n",
      "José        8.4\n",
      "Dorgival    9.7\n",
      "Dantas      7.4\n",
      "dtype: float64\n"
     ]
    }
   ],
   "source": [
    "print(serie_notas)"
   ]
  },
  {
   "cell_type": "code",
   "execution_count": 23,
   "id": "26138ea7-2ff8-46dc-b363-b4146a181092",
   "metadata": {},
   "outputs": [
    {
     "name": "stdout",
     "output_type": "stream",
     "text": [
      "8.4\n"
     ]
    }
   ],
   "source": [
    "print(serie_notas['José'])"
   ]
  },
  {
   "cell_type": "code",
   "execution_count": 27,
   "id": "300b4130-b44b-4a5a-82c8-49a00943ea61",
   "metadata": {},
   "outputs": [
    {
     "name": "stdout",
     "output_type": "stream",
     "text": [
      "8.675\n"
     ]
    }
   ],
   "source": [
    "print(serie_notas.mean())"
   ]
  },
  {
   "cell_type": "code",
   "execution_count": 29,
   "id": "0f534dc5-4cc9-49c3-aeaf-e685148c2375",
   "metadata": {},
   "outputs": [
    {
     "name": "stdout",
     "output_type": "stream",
     "text": [
      "8.8\n"
     ]
    }
   ],
   "source": [
    "print(serie_notas.median())"
   ]
  },
  {
   "cell_type": "code",
   "execution_count": 31,
   "id": "7e2685cf-e52c-4cd2-9ea4-f6e6d05e1dc6",
   "metadata": {},
   "outputs": [
    {
     "name": "stdout",
     "output_type": "stream",
     "text": [
      "count    4.000000\n",
      "mean     8.675000\n",
      "std      1.004573\n",
      "min      7.400000\n",
      "25%      8.150000\n",
      "50%      8.800000\n",
      "75%      9.325000\n",
      "max      9.700000\n",
      "dtype: float64\n"
     ]
    }
   ],
   "source": [
    "print(serie_notas.describe())"
   ]
  },
  {
   "cell_type": "code",
   "execution_count": null,
   "id": "614c8226-a8b0-41ff-a8f0-6fa3032cfdca",
   "metadata": {},
   "outputs": [],
   "source": []
  }
 ],
 "metadata": {
  "kernelspec": {
   "display_name": "Python 3 (ipykernel)",
   "language": "python",
   "name": "python3"
  },
  "language_info": {
   "codemirror_mode": {
    "name": "ipython",
    "version": 3
   },
   "file_extension": ".py",
   "mimetype": "text/x-python",
   "name": "python",
   "nbconvert_exporter": "python",
   "pygments_lexer": "ipython3",
   "version": "3.11.7"
  }
 },
 "nbformat": 4,
 "nbformat_minor": 5
}
