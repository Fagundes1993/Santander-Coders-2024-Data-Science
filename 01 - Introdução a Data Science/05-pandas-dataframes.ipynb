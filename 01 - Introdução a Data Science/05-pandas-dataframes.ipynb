{
 "cells": [
  {
   "cell_type": "code",
   "execution_count": 1,
   "id": "3065e01f-3d74-4d6f-bafc-0c32dca465ce",
   "metadata": {},
   "outputs": [],
   "source": [
    "import pandas as pd"
   ]
  },
  {
   "cell_type": "code",
   "execution_count": 9,
   "id": "dc30bb0e-8356-41f4-9bda-d62bfff7ae4f",
   "metadata": {},
   "outputs": [],
   "source": [
    "# Cria um dicionário com autores, proços e tíyulos\n",
    "\n",
    "dictionary = {'Autores' : ['Apolonio de Thodes', 'Homero', 'Harari', 'Joseph Campbell'],\n",
    "             'Títulos' : ['Argonáutica', 'Ilíada','Sapiens', 'O Herói de mil faces'],\n",
    "             'Preços' : [70, 40, 50, 60]}"
   ]
  },
  {
   "cell_type": "code",
   "execution_count": 41,
   "id": "a39b0dfe-5f42-4294-a6b0-6c2bb9babd4f",
   "metadata": {},
   "outputs": [],
   "source": [
    "## Dataframe\n",
    "\n",
    "df1 = pd.DataFrame(dictionary)"
   ]
  },
  {
   "cell_type": "code",
   "execution_count": 43,
   "id": "e697d096-ddf0-426f-9893-23dcec9bd1ff",
   "metadata": {},
   "outputs": [
    {
     "data": {
      "text/html": [
       "<div>\n",
       "<style scoped>\n",
       "    .dataframe tbody tr th:only-of-type {\n",
       "        vertical-align: middle;\n",
       "    }\n",
       "\n",
       "    .dataframe tbody tr th {\n",
       "        vertical-align: top;\n",
       "    }\n",
       "\n",
       "    .dataframe thead th {\n",
       "        text-align: right;\n",
       "    }\n",
       "</style>\n",
       "<table border=\"1\" class=\"dataframe\">\n",
       "  <thead>\n",
       "    <tr style=\"text-align: right;\">\n",
       "      <th></th>\n",
       "      <th>Autores</th>\n",
       "      <th>Títulos</th>\n",
       "      <th>Preços</th>\n",
       "    </tr>\n",
       "  </thead>\n",
       "  <tbody>\n",
       "    <tr>\n",
       "      <th>0</th>\n",
       "      <td>Apolonio de Thodes</td>\n",
       "      <td>Argonáutica</td>\n",
       "      <td>70</td>\n",
       "    </tr>\n",
       "    <tr>\n",
       "      <th>1</th>\n",
       "      <td>Homero</td>\n",
       "      <td>Ilíada</td>\n",
       "      <td>40</td>\n",
       "    </tr>\n",
       "    <tr>\n",
       "      <th>2</th>\n",
       "      <td>Harari</td>\n",
       "      <td>Sapiens</td>\n",
       "      <td>50</td>\n",
       "    </tr>\n",
       "    <tr>\n",
       "      <th>3</th>\n",
       "      <td>Joseph Campbell</td>\n",
       "      <td>O Herói de mil faces</td>\n",
       "      <td>60</td>\n",
       "    </tr>\n",
       "  </tbody>\n",
       "</table>\n",
       "</div>"
      ],
      "text/plain": [
       "              Autores               Títulos  Preços\n",
       "0  Apolonio de Thodes           Argonáutica      70\n",
       "1              Homero                Ilíada      40\n",
       "2              Harari               Sapiens      50\n",
       "3     Joseph Campbell  O Herói de mil faces      60"
      ]
     },
     "execution_count": 43,
     "metadata": {},
     "output_type": "execute_result"
    }
   ],
   "source": [
    "df1"
   ]
  },
  {
   "cell_type": "code",
   "execution_count": 45,
   "id": "9680bb55-94fb-4faf-8114-9dd56098eed9",
   "metadata": {},
   "outputs": [
    {
     "data": {
      "text/plain": [
       "0    Apolonio de Thodes\n",
       "1                Homero\n",
       "2                Harari\n",
       "3       Joseph Campbell\n",
       "Name: Autores, dtype: object"
      ]
     },
     "execution_count": 45,
     "metadata": {},
     "output_type": "execute_result"
    }
   ],
   "source": [
    "df1['Autores']"
   ]
  },
  {
   "cell_type": "code",
   "execution_count": 47,
   "id": "77d1146b-3664-4fde-9621-142063c57fab",
   "metadata": {},
   "outputs": [
    {
     "data": {
      "text/plain": [
       "'Homero'"
      ]
     },
     "execution_count": 47,
     "metadata": {},
     "output_type": "execute_result"
    }
   ],
   "source": [
    "df1['Autores'][1]"
   ]
  },
  {
   "cell_type": "code",
   "execution_count": 49,
   "id": "5185e899-2e7e-4970-8f3b-390fbdb3996f",
   "metadata": {},
   "outputs": [
    {
     "data": {
      "text/plain": [
       "0    70\n",
       "1    40\n",
       "2    50\n",
       "3    60\n",
       "Name: Preços, dtype: int64"
      ]
     },
     "execution_count": 49,
     "metadata": {},
     "output_type": "execute_result"
    }
   ],
   "source": [
    "df1['Preços']"
   ]
  },
  {
   "cell_type": "code",
   "execution_count": 51,
   "id": "6348351a-3f66-4104-9ff8-1ff8bb942984",
   "metadata": {},
   "outputs": [
    {
     "data": {
      "text/plain": [
       "55.0"
      ]
     },
     "execution_count": 51,
     "metadata": {},
     "output_type": "execute_result"
    }
   ],
   "source": [
    "df1['Preços'].mean()"
   ]
  },
  {
   "cell_type": "code",
   "execution_count": 53,
   "id": "21fa8e28-ae9b-4f9b-b306-a0a84fac891c",
   "metadata": {},
   "outputs": [],
   "source": [
    "mascara = (df1['Autores'] == 'Homero')"
   ]
  },
  {
   "cell_type": "code",
   "execution_count": 55,
   "id": "e0308c37-a820-4f29-8090-225ab33034c5",
   "metadata": {},
   "outputs": [
    {
     "data": {
      "text/plain": [
       "0    False\n",
       "1     True\n",
       "2    False\n",
       "3    False\n",
       "Name: Autores, dtype: bool"
      ]
     },
     "execution_count": 55,
     "metadata": {},
     "output_type": "execute_result"
    }
   ],
   "source": [
    "mascara"
   ]
  },
  {
   "cell_type": "code",
   "execution_count": 57,
   "id": "905b440a-acec-4272-bc4d-c13995d01263",
   "metadata": {},
   "outputs": [
    {
     "data": {
      "text/html": [
       "<div>\n",
       "<style scoped>\n",
       "    .dataframe tbody tr th:only-of-type {\n",
       "        vertical-align: middle;\n",
       "    }\n",
       "\n",
       "    .dataframe tbody tr th {\n",
       "        vertical-align: top;\n",
       "    }\n",
       "\n",
       "    .dataframe thead th {\n",
       "        text-align: right;\n",
       "    }\n",
       "</style>\n",
       "<table border=\"1\" class=\"dataframe\">\n",
       "  <thead>\n",
       "    <tr style=\"text-align: right;\">\n",
       "      <th></th>\n",
       "      <th>Autores</th>\n",
       "      <th>Títulos</th>\n",
       "      <th>Preços</th>\n",
       "    </tr>\n",
       "  </thead>\n",
       "  <tbody>\n",
       "    <tr>\n",
       "      <th>1</th>\n",
       "      <td>Homero</td>\n",
       "      <td>Ilíada</td>\n",
       "      <td>40</td>\n",
       "    </tr>\n",
       "  </tbody>\n",
       "</table>\n",
       "</div>"
      ],
      "text/plain": [
       "  Autores Títulos  Preços\n",
       "1  Homero  Ilíada      40"
      ]
     },
     "execution_count": 57,
     "metadata": {},
     "output_type": "execute_result"
    }
   ],
   "source": [
    "df1[mascara]"
   ]
  },
  {
   "cell_type": "code",
   "execution_count": 71,
   "id": "4987a0b1-b64f-4904-a6a9-7a413b831d69",
   "metadata": {},
   "outputs": [],
   "source": [
    "# criando um novo dataframe\n",
    "\n",
    "dictionary2 = ({'Autores' : ['Homero'], 'Títulos' : ['Odisséia'], 'Preços' : [50]})"
   ]
  },
  {
   "cell_type": "code",
   "execution_count": 73,
   "id": "b0dc9290-ce06-48ef-bc96-47b4111f96b7",
   "metadata": {},
   "outputs": [],
   "source": [
    "df2 = pd.DataFrame(dictionary2)"
   ]
  },
  {
   "cell_type": "code",
   "execution_count": 75,
   "id": "8b3bb4d0-c4e2-46a7-8501-d50c62097b57",
   "metadata": {},
   "outputs": [
    {
     "data": {
      "text/html": [
       "<div>\n",
       "<style scoped>\n",
       "    .dataframe tbody tr th:only-of-type {\n",
       "        vertical-align: middle;\n",
       "    }\n",
       "\n",
       "    .dataframe tbody tr th {\n",
       "        vertical-align: top;\n",
       "    }\n",
       "\n",
       "    .dataframe thead th {\n",
       "        text-align: right;\n",
       "    }\n",
       "</style>\n",
       "<table border=\"1\" class=\"dataframe\">\n",
       "  <thead>\n",
       "    <tr style=\"text-align: right;\">\n",
       "      <th></th>\n",
       "      <th>Autores</th>\n",
       "      <th>Títulos</th>\n",
       "      <th>Preços</th>\n",
       "    </tr>\n",
       "  </thead>\n",
       "  <tbody>\n",
       "    <tr>\n",
       "      <th>0</th>\n",
       "      <td>Homero</td>\n",
       "      <td>Odisséia</td>\n",
       "      <td>50</td>\n",
       "    </tr>\n",
       "  </tbody>\n",
       "</table>\n",
       "</div>"
      ],
      "text/plain": [
       "  Autores   Títulos  Preços\n",
       "0  Homero  Odisséia      50"
      ]
     },
     "execution_count": 75,
     "metadata": {},
     "output_type": "execute_result"
    }
   ],
   "source": [
    "df2"
   ]
  },
  {
   "cell_type": "code",
   "execution_count": 81,
   "id": "f4b1152d-4cae-4b81-841b-eb6ee98fa002",
   "metadata": {},
   "outputs": [],
   "source": [
    "# Concatenando os dois dataframes\n",
    "\n",
    "df_agrupado = pd.concat([df1, df2], ignore_index = True)"
   ]
  },
  {
   "cell_type": "code",
   "execution_count": 83,
   "id": "720e8475-ea1b-4396-a28a-bfcc4ee3ce90",
   "metadata": {},
   "outputs": [
    {
     "data": {
      "text/html": [
       "<div>\n",
       "<style scoped>\n",
       "    .dataframe tbody tr th:only-of-type {\n",
       "        vertical-align: middle;\n",
       "    }\n",
       "\n",
       "    .dataframe tbody tr th {\n",
       "        vertical-align: top;\n",
       "    }\n",
       "\n",
       "    .dataframe thead th {\n",
       "        text-align: right;\n",
       "    }\n",
       "</style>\n",
       "<table border=\"1\" class=\"dataframe\">\n",
       "  <thead>\n",
       "    <tr style=\"text-align: right;\">\n",
       "      <th></th>\n",
       "      <th>Autores</th>\n",
       "      <th>Títulos</th>\n",
       "      <th>Preços</th>\n",
       "    </tr>\n",
       "  </thead>\n",
       "  <tbody>\n",
       "    <tr>\n",
       "      <th>0</th>\n",
       "      <td>Apolonio de Thodes</td>\n",
       "      <td>Argonáutica</td>\n",
       "      <td>70</td>\n",
       "    </tr>\n",
       "    <tr>\n",
       "      <th>1</th>\n",
       "      <td>Homero</td>\n",
       "      <td>Ilíada</td>\n",
       "      <td>40</td>\n",
       "    </tr>\n",
       "    <tr>\n",
       "      <th>2</th>\n",
       "      <td>Harari</td>\n",
       "      <td>Sapiens</td>\n",
       "      <td>50</td>\n",
       "    </tr>\n",
       "    <tr>\n",
       "      <th>3</th>\n",
       "      <td>Joseph Campbell</td>\n",
       "      <td>O Herói de mil faces</td>\n",
       "      <td>60</td>\n",
       "    </tr>\n",
       "    <tr>\n",
       "      <th>4</th>\n",
       "      <td>Homero</td>\n",
       "      <td>Odisséia</td>\n",
       "      <td>50</td>\n",
       "    </tr>\n",
       "  </tbody>\n",
       "</table>\n",
       "</div>"
      ],
      "text/plain": [
       "              Autores               Títulos  Preços\n",
       "0  Apolonio de Thodes           Argonáutica      70\n",
       "1              Homero                Ilíada      40\n",
       "2              Harari               Sapiens      50\n",
       "3     Joseph Campbell  O Herói de mil faces      60\n",
       "4              Homero              Odisséia      50"
      ]
     },
     "execution_count": 83,
     "metadata": {},
     "output_type": "execute_result"
    }
   ],
   "source": [
    "df_agrupado"
   ]
  },
  {
   "cell_type": "code",
   "execution_count": null,
   "id": "2baf58b3-a976-466d-a571-20a9d72ff70f",
   "metadata": {},
   "outputs": [],
   "source": []
  }
 ],
 "metadata": {
  "kernelspec": {
   "display_name": "Python 3 (ipykernel)",
   "language": "python",
   "name": "python3"
  },
  "language_info": {
   "codemirror_mode": {
    "name": "ipython",
    "version": 3
   },
   "file_extension": ".py",
   "mimetype": "text/x-python",
   "name": "python",
   "nbconvert_exporter": "python",
   "pygments_lexer": "ipython3",
   "version": "3.11.7"
  }
 },
 "nbformat": 4,
 "nbformat_minor": 5
}
