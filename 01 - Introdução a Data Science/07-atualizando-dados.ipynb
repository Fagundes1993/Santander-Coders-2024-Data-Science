{
 "cells": [
  {
   "cell_type": "code",
   "execution_count": 2,
   "id": "782474bf-0461-459e-ad64-efabcc40e7f7",
   "metadata": {},
   "outputs": [],
   "source": [
    "import pandas as pd"
   ]
  },
  {
   "cell_type": "code",
   "execution_count": 6,
   "id": "83bbcbe4-3020-4c58-8eb7-6232dc13982c",
   "metadata": {},
   "outputs": [
    {
     "name": "stdout",
     "output_type": "stream",
     "text": [
      "Requirement already satisfied: openpyxl in c:\\users\\mfbl9\\anaconda3\\lib\\site-packages (3.0.10)\n",
      "Requirement already satisfied: et_xmlfile in c:\\users\\mfbl9\\anaconda3\\lib\\site-packages (from openpyxl) (1.1.0)\n"
     ]
    }
   ],
   "source": [
    "!pip install openpyxl"
   ]
  },
  {
   "cell_type": "code",
   "execution_count": 8,
   "id": "0695c421-ddbd-4f85-b085-8af9d44d3727",
   "metadata": {},
   "outputs": [],
   "source": [
    "# Chegamos na etapa de dados ficticios pois não temos acesso a base de dados disponibilizada no curso\n",
    "\n",
    "# df = pd.read_excel(Sao_paulo.xlsx)"
   ]
  },
  {
   "cell_type": "code",
   "execution_count": 10,
   "id": "c285d985-7c34-4fbc-999f-f1ffd64957b6",
   "metadata": {},
   "outputs": [],
   "source": [
    "# df"
   ]
  },
  {
   "cell_type": "code",
   "execution_count": 12,
   "id": "6d5c014a-b0ea-4807-ae97-c3cae52e72b0",
   "metadata": {},
   "outputs": [],
   "source": [
    "# auxiliar = df.loc[10031]"
   ]
  },
  {
   "cell_type": "code",
   "execution_count": 14,
   "id": "2d915788-b086-48f2-994e-61448e7907d2",
   "metadata": {},
   "outputs": [],
   "source": [
    "# auxiliar"
   ]
  },
  {
   "cell_type": "code",
   "execution_count": 18,
   "id": "dbe51a00-e3cf-44d6-ad6d-7e5d6593d100",
   "metadata": {},
   "outputs": [],
   "source": [
    "#def limpa_preco(linha):\n",
    "#    linha['price'] = linha['price'].replace('R$','')\n",
    "#    linha['price'] = linha['price'].replace('\\n','')\n",
    "#    linha['price'] = linha['price'].replace('\\Mês','')\n",
    "#    linha['price'] = linha['price'].replace('              ','')\n",
    "#    return linha"
   ]
  },
  {
   "cell_type": "code",
   "execution_count": 20,
   "id": "f67435d2-e6ae-423c-a90b-904691fe676a",
   "metadata": {},
   "outputs": [],
   "source": [
    "# limpa_preco(auxiliar)"
   ]
  },
  {
   "cell_type": "code",
   "execution_count": 22,
   "id": "7fceea47-9ec2-4282-841c-38161cc5fcc6",
   "metadata": {},
   "outputs": [],
   "source": [
    "# df.apply(lambda x: limpa_preco(x), axis = 1)\n",
    "\n",
    "# axis = 0 se refere as colunas\n",
    "# axis = 1 se refere as linhas"
   ]
  },
  {
   "cell_type": "code",
   "execution_count": 28,
   "id": "6f97ee3b-3a42-4a86-8cfe-b06ab99d4b5b",
   "metadata": {},
   "outputs": [],
   "source": [
    "# def ajusta_alugueis(linha)\n",
    "#     linha['price'] = linha['price'].replce('.', '')\n",
    "#     preco = int(linha['price']) \n",
    "#     if( preco < 1000)\n",
    "#         preco = preco * 200\n",
    "#     linha['price'] * preco\n",
    "#     return linha"
   ]
  },
  {
   "cell_type": "code",
   "execution_count": 30,
   "id": "caf19a1e-6ddf-49c3-bd11-21e169aaa74d",
   "metadata": {},
   "outputs": [],
   "source": [
    "# ajusta_alugueis(auxiliar)"
   ]
  },
  {
   "cell_type": "code",
   "execution_count": 32,
   "id": "8f8325fd-a45d-4e88-8d52-438d57bf8821",
   "metadata": {},
   "outputs": [],
   "source": [
    "# df.apply(lambda x: ajusta_alugueis(x), axis = 1)"
   ]
  }
 ],
 "metadata": {
  "kernelspec": {
   "display_name": "Python 3 (ipykernel)",
   "language": "python",
   "name": "python3"
  },
  "language_info": {
   "codemirror_mode": {
    "name": "ipython",
    "version": 3
   },
   "file_extension": ".py",
   "mimetype": "text/x-python",
   "name": "python",
   "nbconvert_exporter": "python",
   "pygments_lexer": "ipython3",
   "version": "3.11.7"
  }
 },
 "nbformat": 4,
 "nbformat_minor": 5
}
